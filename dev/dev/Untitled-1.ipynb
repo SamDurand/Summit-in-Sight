{
 "cells": [
  {
   "cell_type": "code",
   "execution_count": 1,
   "metadata": {},
   "outputs": [],
   "source": [
    "import pandas as pd"
   ]
  },
  {
   "cell_type": "code",
   "execution_count": 2,
   "metadata": {},
   "outputs": [],
   "source": [
    "data = pd.read_excel(\"List_Summits_from_wiki.xlsx\")"
   ]
  },
  {
   "cell_type": "code",
   "execution_count": 4,
   "metadata": {},
   "outputs": [],
   "source": [
    "grid_locations = pd.DataFrame()\n",
    "grid_locations[\"lat_grid\"], grid_locations[\"lon_grid\"] = data[\"latitude\"], data[\"longitude\"]"
   ]
  }
 ],
 "metadata": {
  "kernelspec": {
   "display_name": "Python 3",
   "language": "python",
   "name": "python3"
  },
  "language_info": {
   "codemirror_mode": {
    "name": "ipython",
    "version": 3
   },
   "file_extension": ".py",
   "mimetype": "text/x-python",
   "name": "python",
   "nbconvert_exporter": "python",
   "pygments_lexer": "ipython3",
   "version": "3.10.9"
  },
  "orig_nbformat": 4,
  "vscode": {
   "interpreter": {
    "hash": "7a2a8cb3843ef792ad2471ea5bea20d4de7b786b2ed696b31c1b4830f1df842c"
   }
  }
 },
 "nbformat": 4,
 "nbformat_minor": 2
}
