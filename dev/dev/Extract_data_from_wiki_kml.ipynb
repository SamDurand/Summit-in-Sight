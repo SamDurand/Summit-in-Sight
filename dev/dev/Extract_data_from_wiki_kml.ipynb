{
 "cells": [
  {
   "cell_type": "code",
   "execution_count": 97,
   "metadata": {},
   "outputs": [],
   "source": [
    "import geopandas as gpd\n",
    "import fiona\n",
    "import numpy as np\n",
    "\n",
    "gpd.io.file.fiona.drvsupport.supported_drivers['KML'] = 'rw'\n",
    "df = gpd.read_file('Mountains_Alps_above_3000.kml', driver='KML')"
   ]
  },
  {
   "cell_type": "code",
   "execution_count": 98,
   "metadata": {},
   "outputs": [
    {
     "data": {
      "text/html": [
       "<div>\n",
       "<style scoped>\n",
       "    .dataframe tbody tr th:only-of-type {\n",
       "        vertical-align: middle;\n",
       "    }\n",
       "\n",
       "    .dataframe tbody tr th {\n",
       "        vertical-align: top;\n",
       "    }\n",
       "\n",
       "    .dataframe thead th {\n",
       "        text-align: right;\n",
       "    }\n",
       "</style>\n",
       "<table border=\"1\" class=\"dataframe\">\n",
       "  <thead>\n",
       "    <tr style=\"text-align: right;\">\n",
       "      <th></th>\n",
       "      <th>Name</th>\n",
       "      <th>Description</th>\n",
       "      <th>geometry</th>\n",
       "    </tr>\n",
       "  </thead>\n",
       "  <tbody>\n",
       "    <tr>\n",
       "      <th>0</th>\n",
       "      <td>1. Mont Blanc (4808 m)</td>\n",
       "      <td>&lt;br&gt;Source: Wikipedia article &lt;a href=\"https:/...</td>\n",
       "      <td>POINT Z (6.86444 45.83250 0.00000)</td>\n",
       "    </tr>\n",
       "    <tr>\n",
       "      <th>1</th>\n",
       "      <td>2. Monte Rosa / Mont Rose (Dufourspitze) (4634 m)</td>\n",
       "      <td>&lt;br&gt;Source: Wikipedia article &lt;a href=\"https:/...</td>\n",
       "      <td>POINT Z (7.86694 45.93694 0.00000)</td>\n",
       "    </tr>\n",
       "    <tr>\n",
       "      <th>2</th>\n",
       "      <td>3. Dom (4545 m)</td>\n",
       "      <td>&lt;br&gt;Source: Wikipedia article &lt;a href=\"https:/...</td>\n",
       "      <td>POINT Z (7.85889 46.09389 0.00000)</td>\n",
       "    </tr>\n",
       "    <tr>\n",
       "      <th>3</th>\n",
       "      <td>4. Lyskamm (4533 m)</td>\n",
       "      <td>&lt;br&gt;Source: Wikipedia article &lt;a href=\"https:/...</td>\n",
       "      <td>POINT Z (7.83556 45.92222 0.00000)</td>\n",
       "    </tr>\n",
       "    <tr>\n",
       "      <th>4</th>\n",
       "      <td>5. Weisshorn (4506 m)</td>\n",
       "      <td>&lt;br&gt;Source: Wikipedia article &lt;a href=\"https:/...</td>\n",
       "      <td>POINT Z (7.71583 46.10139 0.00000)</td>\n",
       "    </tr>\n",
       "    <tr>\n",
       "      <th>...</th>\n",
       "      <td>...</td>\n",
       "      <td>...</td>\n",
       "      <td>...</td>\n",
       "    </tr>\n",
       "    <tr>\n",
       "      <th>558</th>\n",
       "      <td>533. Ritterkopf (3006 m)</td>\n",
       "      <td>&lt;br&gt;Source: Wikipedia article &lt;a href=\"https:/...</td>\n",
       "      <td>POINT Z (12.94944 47.10250 0.00000)</td>\n",
       "    </tr>\n",
       "    <tr>\n",
       "      <th>559</th>\n",
       "      <td>534. Furgler (3004 m)</td>\n",
       "      <td>&lt;br&gt;Source: Wikipedia article &lt;a href=\"https:/...</td>\n",
       "      <td>POINT Z (10.51222 47.04028 0.00000)</td>\n",
       "    </tr>\n",
       "    <tr>\n",
       "      <th>560</th>\n",
       "      <td>535. Kesselkogel / Catinaccio d'Antermoia (300...</td>\n",
       "      <td>&lt;br&gt;Source: Wikipedia article &lt;a href=\"https:/...</td>\n",
       "      <td>POINT Z (11.64361 46.47444 0.00000)</td>\n",
       "    </tr>\n",
       "    <tr>\n",
       "      <th>561</th>\n",
       "      <td>536. Pizzas d'Anarosa / Grauhörner (3002 m)</td>\n",
       "      <td>&lt;br&gt;Source: Wikipedia article &lt;a href=\"https:/...</td>\n",
       "      <td>POINT Z (9.31583 46.59889 0.00000)</td>\n",
       "    </tr>\n",
       "    <tr>\n",
       "      <th>562</th>\n",
       "      <td>537. Gigalitz (3001 m)</td>\n",
       "      <td>&lt;br&gt;Source: Wikipedia article &lt;a href=\"https:/...</td>\n",
       "      <td>POINT Z (11.89111 47.05778 0.00000)</td>\n",
       "    </tr>\n",
       "  </tbody>\n",
       "</table>\n",
       "<p>563 rows × 3 columns</p>\n",
       "</div>"
      ],
      "text/plain": [
       "                                                  Name  \\\n",
       "0                               1. Mont Blanc (4808 m)   \n",
       "1    2. Monte Rosa / Mont Rose (Dufourspitze) (4634 m)   \n",
       "2                                      3. Dom (4545 m)   \n",
       "3                                  4. Lyskamm (4533 m)   \n",
       "4                                5. Weisshorn (4506 m)   \n",
       "..                                                 ...   \n",
       "558                           533. Ritterkopf (3006 m)   \n",
       "559                              534. Furgler (3004 m)   \n",
       "560  535. Kesselkogel / Catinaccio d'Antermoia (300...   \n",
       "561        536. Pizzas d'Anarosa / Grauhörner (3002 m)   \n",
       "562                             537. Gigalitz (3001 m)   \n",
       "\n",
       "                                           Description  \\\n",
       "0    <br>Source: Wikipedia article <a href=\"https:/...   \n",
       "1    <br>Source: Wikipedia article <a href=\"https:/...   \n",
       "2    <br>Source: Wikipedia article <a href=\"https:/...   \n",
       "3    <br>Source: Wikipedia article <a href=\"https:/...   \n",
       "4    <br>Source: Wikipedia article <a href=\"https:/...   \n",
       "..                                                 ...   \n",
       "558  <br>Source: Wikipedia article <a href=\"https:/...   \n",
       "559  <br>Source: Wikipedia article <a href=\"https:/...   \n",
       "560  <br>Source: Wikipedia article <a href=\"https:/...   \n",
       "561  <br>Source: Wikipedia article <a href=\"https:/...   \n",
       "562  <br>Source: Wikipedia article <a href=\"https:/...   \n",
       "\n",
       "                                geometry  \n",
       "0     POINT Z (6.86444 45.83250 0.00000)  \n",
       "1     POINT Z (7.86694 45.93694 0.00000)  \n",
       "2     POINT Z (7.85889 46.09389 0.00000)  \n",
       "3     POINT Z (7.83556 45.92222 0.00000)  \n",
       "4     POINT Z (7.71583 46.10139 0.00000)  \n",
       "..                                   ...  \n",
       "558  POINT Z (12.94944 47.10250 0.00000)  \n",
       "559  POINT Z (10.51222 47.04028 0.00000)  \n",
       "560  POINT Z (11.64361 46.47444 0.00000)  \n",
       "561   POINT Z (9.31583 46.59889 0.00000)  \n",
       "562  POINT Z (11.89111 47.05778 0.00000)  \n",
       "\n",
       "[563 rows x 3 columns]"
      ]
     },
     "execution_count": 98,
     "metadata": {},
     "output_type": "execute_result"
    }
   ],
   "source": [
    "df"
   ]
  },
  {
   "cell_type": "code",
   "execution_count": 99,
   "metadata": {},
   "outputs": [],
   "source": [
    "coordinates = np.array([[str(coord).split(\"(\")[1].split(\" \")[0], str(coord).split(\"(\")[1].split(\" \")[1]] for index, coord in enumerate(df[\"geometry\"])])"
   ]
  },
  {
   "cell_type": "code",
   "execution_count": 100,
   "metadata": {},
   "outputs": [],
   "source": [
    "df[[\"longitude\", \"latitude\"]] = coordinates"
   ]
  },
  {
   "cell_type": "code",
   "execution_count": 101,
   "metadata": {},
   "outputs": [],
   "source": [
    "grid_locations = df[[\"Name\", \"latitude\", \"longitude\"]]"
   ]
  },
  {
   "cell_type": "code",
   "execution_count": 102,
   "metadata": {},
   "outputs": [],
   "source": [
    "grid_locations.to_csv(\"3.csv\")"
   ]
  },
  {
   "cell_type": "code",
   "execution_count": 103,
   "metadata": {},
   "outputs": [],
   "source": [
    "import pandas as pd"
   ]
  },
  {
   "cell_type": "code",
   "execution_count": 108,
   "metadata": {},
   "outputs": [
    {
     "data": {
      "text/plain": [
       "0     45° 49′ 57″ N, 6° 51′ 52″ E\\n France  Italie\n",
       "1     45° 49′ 44″ N, 6° 52′ 10″ E\\n France  Italie\n",
       "2             45° 56′ 13″ N, 7° 52′ 04″ E\\n Suisse\n",
       "3     45° 56′ 30″ N, 7° 52′ 12″ E\\n Suisse  Italie\n",
       "4     45° 55′ 55″ N, 7° 52′ 17″ E\\n Suisse  Italie\n",
       "                          ...                     \n",
       "77    45° 51′ 43″ N, 6° 57′ 06″ E\\n France  Italie\n",
       "78            45° 48′ 52″ N, 6° 51′ 48″ E\\n Italie\n",
       "79            46° 09′ 26″ N, 8° 00′ 11″ E\\n Suisse\n",
       "80     45° 51′ 43″ N, 6° 57′ 36″ E\\n France Italie\n",
       "81            45° 55′ 49″ N, 6° 59′ 21″ E\\n France\n",
       "Name: Localisation, Length: 82, dtype: object"
      ]
     },
     "execution_count": 108,
     "metadata": {},
     "output_type": "execute_result"
    }
   ],
   "source": [
    "data = pd.read_csv(\"Sommets_des_Alpes_de_plus_de_4_000_m.csv\")\n",
    "data[\"Localisation\"]"
   ]
  }
 ],
 "metadata": {
  "kernelspec": {
   "display_name": "Python 3",
   "language": "python",
   "name": "python3"
  },
  "language_info": {
   "codemirror_mode": {
    "name": "ipython",
    "version": 3
   },
   "file_extension": ".py",
   "mimetype": "text/x-python",
   "name": "python",
   "nbconvert_exporter": "python",
   "pygments_lexer": "ipython3",
   "version": "3.10.9 (tags/v3.10.9:1dd9be6, Dec  6 2022, 20:01:21) [MSC v.1934 64 bit (AMD64)]"
  },
  "orig_nbformat": 4,
  "vscode": {
   "interpreter": {
    "hash": "7a2a8cb3843ef792ad2471ea5bea20d4de7b786b2ed696b31c1b4830f1df842c"
   }
  }
 },
 "nbformat": 4,
 "nbformat_minor": 2
}
