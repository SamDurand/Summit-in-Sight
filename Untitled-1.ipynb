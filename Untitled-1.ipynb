{
 "cells": [
  {
   "cell_type": "code",
   "execution_count": null,
   "metadata": {},
   "outputs": [],
   "source": [
    "import pandas as pd\n",
    "from summit_lib import plot_locations_map\n",
    "\n",
    "grid_locations = pd.read_csv(\"data/results/Grid_NW_Alps_res=0.5km.csv\")\n",
    "\n",
    "grid_locations.dtypes"
   ]
  },
  {
   "cell_type": "code",
   "execution_count": 1,
   "metadata": {},
   "outputs": [],
   "source": [
    "import pandas as pd"
   ]
  },
  {
   "cell_type": "code",
   "execution_count": 4,
   "metadata": {},
   "outputs": [],
   "source": [
    "data = pd.read_excel(\"data/summits_list.xlsx\")\n",
    "data.to_csv(\"data/summits_list.csv\", index=False)"
   ]
  },
  {
   "cell_type": "code",
   "execution_count": null,
   "metadata": {},
   "outputs": [],
   "source": [
    "grid_locations.loc[grid_locations['view_possible'] == True]"
   ]
  },
  {
   "cell_type": "code",
   "execution_count": null,
   "metadata": {},
   "outputs": [],
   "source": [
    "import pandas as pd\n",
    "from plotly.express import scatter_mapbox\n",
    "\n",
    "# Import a file\n",
    "grid_locations = pd.read_csv(\"data/results/Grid_NW_Alps_res=0.5km.csv\")\n",
    "\n",
    "# Keep only locations when view_possible = True\n",
    "grid_locations = grid_locations[grid_locations['view_possible'] == True]\n",
    "\n",
    "# PLot locations\n",
    "fig = scatter_mapbox(grid_locations, lat=\"latitude\", lon=\"longitude\", zoom=6, mapbox_style=\"carto-positron\", color_discrete_sequence=[\"wheat\"])"
   ]
  }
 ],
 "metadata": {
  "kernelspec": {
   "display_name": "Python 3",
   "language": "python",
   "name": "python3"
  },
  "language_info": {
   "codemirror_mode": {
    "name": "ipython",
    "version": 3
   },
   "file_extension": ".py",
   "mimetype": "text/x-python",
   "name": "python",
   "nbconvert_exporter": "python",
   "pygments_lexer": "ipython3",
   "version": "3.10.9"
  },
  "orig_nbformat": 4,
  "vscode": {
   "interpreter": {
    "hash": "7a2a8cb3843ef792ad2471ea5bea20d4de7b786b2ed696b31c1b4830f1df842c"
   }
  }
 },
 "nbformat": 4,
 "nbformat_minor": 2
}
