{
 "cells": [
  {
   "cell_type": "code",
   "execution_count": null,
   "metadata": {},
   "outputs": [],
   "source": [
    "import pandas as pd\n",
    "from summit_lib import plot_locations_map\n",
    "\n",
    "grid_locations = pd.read_csv(\"data/results/Grid_NW_Alps_res=0.5km.csv\")\n",
    "\n",
    "grid_locations.dtypes"
   ]
  },
  {
   "cell_type": "code",
   "execution_count": 1,
   "metadata": {},
   "outputs": [],
   "source": [
    "import pandas as pd"
   ]
  },
  {
   "cell_type": "code",
   "execution_count": 2,
   "metadata": {},
   "outputs": [],
   "source": [
    "data = pd.read_csv(\"data/results/summits_results.csv\")\n"
   ]
  },
  {
   "cell_type": "code",
   "execution_count": 8,
   "metadata": {},
   "outputs": [
    {
     "data": {
      "text/html": [
       "<div>\n",
       "<style scoped>\n",
       "    .dataframe tbody tr th:only-of-type {\n",
       "        vertical-align: middle;\n",
       "    }\n",
       "\n",
       "    .dataframe tbody tr th {\n",
       "        vertical-align: top;\n",
       "    }\n",
       "\n",
       "    .dataframe thead th {\n",
       "        text-align: right;\n",
       "    }\n",
       "</style>\n",
       "<table border=\"1\" class=\"dataframe\">\n",
       "  <thead>\n",
       "    <tr style=\"text-align: right;\">\n",
       "      <th></th>\n",
       "      <th>Unnamed: 0</th>\n",
       "      <th>name</th>\n",
       "      <th>latitude</th>\n",
       "      <th>longitude</th>\n",
       "      <th>view_possible</th>\n",
       "    </tr>\n",
       "  </thead>\n",
       "  <tbody>\n",
       "    <tr>\n",
       "      <th>0</th>\n",
       "      <td>0</td>\n",
       "      <td>Hradisko</td>\n",
       "      <td>49.187652</td>\n",
       "      <td>16.509734</td>\n",
       "      <td>True</td>\n",
       "    </tr>\n",
       "    <tr>\n",
       "      <th>1</th>\n",
       "      <td>1</td>\n",
       "      <td>Berchtesgadener Hochthron</td>\n",
       "      <td>47.693515</td>\n",
       "      <td>12.986619</td>\n",
       "      <td>True</td>\n",
       "    </tr>\n",
       "    <tr>\n",
       "      <th>2</th>\n",
       "      <td>2</td>\n",
       "      <td>Jenner</td>\n",
       "      <td>47.575711</td>\n",
       "      <td>13.020282</td>\n",
       "      <td>True</td>\n",
       "    </tr>\n",
       "    <tr>\n",
       "      <th>3</th>\n",
       "      <td>3</td>\n",
       "      <td>Ochsenkopf</td>\n",
       "      <td>50.030670</td>\n",
       "      <td>11.809890</td>\n",
       "      <td>True</td>\n",
       "    </tr>\n",
       "    <tr>\n",
       "      <th>4</th>\n",
       "      <td>4</td>\n",
       "      <td>Hörnli</td>\n",
       "      <td>47.370915</td>\n",
       "      <td>8.941772</td>\n",
       "      <td>True</td>\n",
       "    </tr>\n",
       "    <tr>\n",
       "      <th>...</th>\n",
       "      <td>...</td>\n",
       "      <td>...</td>\n",
       "      <td>...</td>\n",
       "      <td>...</td>\n",
       "      <td>...</td>\n",
       "    </tr>\n",
       "    <tr>\n",
       "      <th>108045</th>\n",
       "      <td>108045</td>\n",
       "      <td>Kogel</td>\n",
       "      <td>46.319400</td>\n",
       "      <td>15.325721</td>\n",
       "      <td>True</td>\n",
       "    </tr>\n",
       "    <tr>\n",
       "      <th>108046</th>\n",
       "      <td>108046</td>\n",
       "      <td>Curkla</td>\n",
       "      <td>46.346747</td>\n",
       "      <td>14.136313</td>\n",
       "      <td>True</td>\n",
       "    </tr>\n",
       "    <tr>\n",
       "      <th>108047</th>\n",
       "      <td>108047</td>\n",
       "      <td>Punta dell'Orticello</td>\n",
       "      <td>41.546636</td>\n",
       "      <td>13.288976</td>\n",
       "      <td>True</td>\n",
       "    </tr>\n",
       "    <tr>\n",
       "      <th>108048</th>\n",
       "      <td>108048</td>\n",
       "      <td>Monte Siserno</td>\n",
       "      <td>41.536084</td>\n",
       "      <td>13.304430</td>\n",
       "      <td>True</td>\n",
       "    </tr>\n",
       "    <tr>\n",
       "      <th>108049</th>\n",
       "      <td>108049</td>\n",
       "      <td>Scheggione</td>\n",
       "      <td>46.465703</td>\n",
       "      <td>8.736093</td>\n",
       "      <td>True</td>\n",
       "    </tr>\n",
       "  </tbody>\n",
       "</table>\n",
       "<p>108050 rows × 5 columns</p>\n",
       "</div>"
      ],
      "text/plain": [
       "        Unnamed: 0                       name   latitude  longitude  \\\n",
       "0                0                   Hradisko  49.187652  16.509734   \n",
       "1                1  Berchtesgadener Hochthron  47.693515  12.986619   \n",
       "2                2                     Jenner  47.575711  13.020282   \n",
       "3                3                 Ochsenkopf  50.030670  11.809890   \n",
       "4                4                     Hörnli  47.370915   8.941772   \n",
       "...            ...                        ...        ...        ...   \n",
       "108045      108045                      Kogel  46.319400  15.325721   \n",
       "108046      108046                     Curkla  46.346747  14.136313   \n",
       "108047      108047       Punta dell'Orticello  41.546636  13.288976   \n",
       "108048      108048              Monte Siserno  41.536084  13.304430   \n",
       "108049      108049                 Scheggione  46.465703   8.736093   \n",
       "\n",
       "        view_possible  \n",
       "0                True  \n",
       "1                True  \n",
       "2                True  \n",
       "3                True  \n",
       "4                True  \n",
       "...               ...  \n",
       "108045           True  \n",
       "108046           True  \n",
       "108047           True  \n",
       "108048           True  \n",
       "108049           True  \n",
       "\n",
       "[108050 rows x 5 columns]"
      ]
     },
     "execution_count": 8,
     "metadata": {},
     "output_type": "execute_result"
    }
   ],
   "source": [
    "data"
   ]
  },
  {
   "cell_type": "code",
   "execution_count": null,
   "metadata": {},
   "outputs": [],
   "source": [
    "data.to_csv(\"data/results/summits_results.csv\", index=False)"
   ]
  },
  {
   "cell_type": "code",
   "execution_count": 4,
   "metadata": {},
   "outputs": [],
   "source": [
    "data = pd.read_excel(\"data/summits_list.xlsx\")\n",
    "data.to_csv(\"data/summits_list.csv\", index=False)"
   ]
  },
  {
   "cell_type": "code",
   "execution_count": null,
   "metadata": {},
   "outputs": [],
   "source": [
    "grid_locations.loc[grid_locations['view_possible'] == True]"
   ]
  },
  {
   "cell_type": "code",
   "execution_count": null,
   "metadata": {},
   "outputs": [],
   "source": [
    "import pandas as pd\n",
    "from plotly.express import scatter_mapbox\n",
    "\n",
    "# Import a file\n",
    "grid_locations = pd.read_csv(\"data/results/Grid_NW_Alps_res=0.5km.csv\")\n",
    "\n",
    "# Keep only locations when view_possible = True\n",
    "grid_locations = grid_locations[grid_locations['view_possible'] == True]\n",
    "\n",
    "# PLot locations\n",
    "fig = scatter_mapbox(grid_locations, lat=\"latitude\", lon=\"longitude\", zoom=6, mapbox_style=\"carto-positron\", color_discrete_sequence=[\"wheat\"])"
   ]
  }
 ],
 "metadata": {
  "kernelspec": {
   "display_name": "Python 3",
   "language": "python",
   "name": "python3"
  },
  "language_info": {
   "codemirror_mode": {
    "name": "ipython",
    "version": 3
   },
   "file_extension": ".py",
   "mimetype": "text/x-python",
   "name": "python",
   "nbconvert_exporter": "python",
   "pygments_lexer": "ipython3",
   "version": "3.10.6"
  },
  "orig_nbformat": 4,
  "vscode": {
   "interpreter": {
    "hash": "916dbcbb3f70747c44a77c7bcd40155683ae19c65e1c03b4aa3499c5328201f1"
   }
  }
 },
 "nbformat": 4,
 "nbformat_minor": 2
}
