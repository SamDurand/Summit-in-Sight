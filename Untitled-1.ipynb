{
 "cells": [
  {
   "cell_type": "code",
   "execution_count": 23,
   "metadata": {},
   "outputs": [],
   "source": [
    "import pandas as pd\n",
    "from summit_lib import *"
   ]
  },
  {
   "cell_type": "code",
   "execution_count": 2,
   "metadata": {},
   "outputs": [
    {
     "name": "stdout",
     "output_type": "stream",
     "text": [
      "Number of locations: 496617\n"
     ]
    }
   ],
   "source": [
    "from summit_lib import generate_locations_grid, summit_is_visible_multi_locations_offline\n",
    "\n",
    "top_left_corner, bottom_right_corner = [48, 2], [43, 5] # Grid covering west Europe \n",
    "\n",
    "location_summit = [45.832542 , 6.864717] # The summit to spot: Mont_Blanc, 4810m, France\n",
    "\n",
    "offset_view = 2 # Your elevation from the ground at your location_point (can be either positive or 0)\n",
    "offset_summit = -100 # How much of the summit you want to see. For example, if 0, you will test your location with exactly the altitude of the peak to spot. \n",
    "# If -100, you will test if you can see from your location the last 100 meters of the summit.\n",
    "res = 0.5 # Resolution in kilometers. Defaults to 10.\n",
    "\n",
    "# Generate grid of locations\n",
    "grid_locations = generate_locations_grid(top_left_corner, bottom_right_corner, res)"
   ]
  },
  {
   "cell_type": "code",
   "execution_count": 26,
   "metadata": {},
   "outputs": [],
   "source": [
    "# Import a file\n",
    "grid_locations = pd.read_csv(\"data/results/48_2_43_5.csv\")"
   ]
  },
  {
   "cell_type": "code",
   "execution_count": 25,
   "metadata": {},
   "outputs": [],
   "source": [
    "from summit_lib import generate_locations_grid, summit_is_visible_multi_locations_offline\n",
    "\n",
    "top_left_corner, bottom_right_corner = [48, 2], [43, 5] # Grid covering west Europe \n",
    "\n",
    "location_summit = [45.832542 , 6.864717] # The summit to spot: Mont_Blanc, 4810m, France\n",
    "\n",
    "offset_view = 2 # Your elevation from the ground at your location_point (can be either positive or 0)\n",
    "offset_summit = -100 # How much of the summit you want to see. For example, if 0, you will test your location with exactly the altitude of the peak to spot. \n",
    "# If -100, you will test if you can see from your location the last 100 meters of the summit.\n",
    "res = 0.5 # Resolution in kilometers. Defaults to 10."
   ]
  },
  {
   "cell_type": "code",
   "execution_count": 32,
   "metadata": {},
   "outputs": [
    {
     "name": "stdout",
     "output_type": "stream",
     "text": [
      "corrected\n",
      "corrected\n",
      "corrected\n",
      "corrected\n",
      "corrected\n",
      "corrected\n",
      "corrected\n",
      "corrected\n",
      "corrected\n",
      "corrected\n",
      "corrected\n",
      "corrected\n",
      "corrected\n",
      "corrected\n",
      "corrected\n",
      "corrected\n",
      "corrected\n",
      "corrected\n",
      "corrected\n",
      "corrected\n",
      "corrected\n",
      "corrected\n",
      "corrected\n",
      "corrected\n",
      "corrected\n",
      "corrected\n",
      "corrected\n",
      "corrected\n",
      "corrected\n",
      "corrected\n",
      "corrected\n",
      "corrected\n",
      "corrected\n",
      "corrected\n",
      "corrected\n",
      "corrected\n",
      "corrected\n",
      "corrected\n",
      "corrected\n",
      "corrected\n",
      "corrected\n",
      "corrected\n",
      "corrected\n"
     ]
    }
   ],
   "source": [
    "# Correct errors and reformat view_possible data\n",
    "view_possible_corrected = []\n",
    "for i, view in enumerate(grid_locations[\"view_possible\"]):\n",
    "    if view == \"error\":\n",
    "        print(\"corrected\")\n",
    "        view_possible_corrected.append(summit_is_visible_fast_offline(location_point=[grid_locations[\"latitude\"][i], grid_locations[\"longitude\"][i]], location_summit=location_summit, offset_view=offset_view, offset_summit=offset_summit))\n",
    "    else:\n",
    "        view_possible_corrected.append(view.replace(\"\\r\", \"\").replace(\"\\n\", \"\"))"
   ]
  },
  {
   "cell_type": "code",
   "execution_count": 33,
   "metadata": {},
   "outputs": [],
   "source": [
    "grid_locations[\"view_possible\"] = view_possible_corrected"
   ]
  },
  {
   "cell_type": "code",
   "execution_count": 34,
   "metadata": {},
   "outputs": [],
   "source": [
    "grid_locations.to_csv(\"data.csv\", index=False)"
   ]
  },
  {
   "cell_type": "code",
   "execution_count": 19,
   "metadata": {},
   "outputs": [],
   "source": [
    "location_summit = [45.832542 , 6.864717] # The summit to spot: Mont_Blanc, 4810m, France\n",
    "\n",
    "offset_view = 2 # Your elevation from the ground at your location_point (can be either positive or 0)\n",
    "offset_summit = -100 # How much of the summit you want to see. For example, if 0, you will test your location with exactly the altitude of the peak to spot. \n",
    "# If -100, you will test if you can see from your location the last 100 meters of the summit.\n",
    "res = 0.5 # Resolution in kilometers. Defaults to 10."
   ]
  },
  {
   "cell_type": "code",
   "execution_count": 24,
   "metadata": {},
   "outputs": [
    {
     "data": {
      "text/plain": [
       "0"
      ]
     },
     "execution_count": 24,
     "metadata": {},
     "output_type": "execute_result"
    }
   ],
   "source": [
    "sum(data[\"view_possible\"] == \"error\\r\\n\")"
   ]
  },
  {
   "cell_type": "code",
   "execution_count": 22,
   "metadata": {},
   "outputs": [],
   "source": [
    "view_possible_corrected = []\n",
    "for i, view in enumerate(data[\"view_possible\"]):\n",
    "    if view == \"error\\r\\n\":\n",
    "        view_possible_corrected.append(summit_is_visible_fast_online(location_point=[data[\"latitude\"][i], data[\"longitude\"][i]], location_summit=location_summit, offset_view=offset_view, offset_summit=offset_summit))\n",
    "    else:\n",
    "        view_possible_corrected.append(view.replace(\"\\r\", \"\").replace(\"\\n\", \"\"))\n",
    "\n",
    "data[\"view_possible\"] = view_possible_corrected"
   ]
  },
  {
   "cell_type": "code",
   "execution_count": 30,
   "metadata": {},
   "outputs": [],
   "source": [
    "data.drop(columns=\"Unnamed: 0\").to_csv(\"data_multi_locations_offline.csv\", index=False)"
   ]
  },
  {
   "cell_type": "code",
   "execution_count": 35,
   "metadata": {},
   "outputs": [],
   "source": [
    "ele = pd.read_csv(\"data/results/48_5_45_8.csv\")\n",
    "ele = ele.drop(columns=\"Name\")\n"
   ]
  },
  {
   "cell_type": "code",
   "execution_count": 38,
   "metadata": {},
   "outputs": [],
   "source": [
    "ele.to_csv(\"data/results/48_5_45_8.csv\", index= False)"
   ]
  },
  {
   "cell_type": "code",
   "execution_count": 36,
   "metadata": {},
   "outputs": [],
   "source": [
    "ele.columns = ['name', 'latitude', 'longitude', 'ele']"
   ]
  },
  {
   "cell_type": "code",
   "execution_count": 81,
   "metadata": {},
   "outputs": [
    {
     "data": {
      "text/html": [
       "<div>\n",
       "<style scoped>\n",
       "    .dataframe tbody tr th:only-of-type {\n",
       "        vertical-align: middle;\n",
       "    }\n",
       "\n",
       "    .dataframe tbody tr th {\n",
       "        vertical-align: top;\n",
       "    }\n",
       "\n",
       "    .dataframe thead th {\n",
       "        text-align: right;\n",
       "    }\n",
       "</style>\n",
       "<table border=\"1\" class=\"dataframe\">\n",
       "  <thead>\n",
       "    <tr style=\"text-align: right;\">\n",
       "      <th></th>\n",
       "      <th>name</th>\n",
       "      <th>latitude</th>\n",
       "      <th>longitude</th>\n",
       "      <th>ele</th>\n",
       "    </tr>\n",
       "  </thead>\n",
       "  <tbody>\n",
       "    <tr>\n",
       "      <th>0</th>\n",
       "      <td>Shoulder Of Mutton Hill</td>\n",
       "      <td>51.038009</td>\n",
       "      <td>-0.948988</td>\n",
       "      <td>248</td>\n",
       "    </tr>\n",
       "    <tr>\n",
       "      <th>1</th>\n",
       "      <td>Gibbet Hill</td>\n",
       "      <td>51.115452</td>\n",
       "      <td>-0.715844</td>\n",
       "      <td>NaN</td>\n",
       "    </tr>\n",
       "    <tr>\n",
       "      <th>2</th>\n",
       "      <td>Hurt Hill</td>\n",
       "      <td>51.114637</td>\n",
       "      <td>-0.706361</td>\n",
       "      <td>NaN</td>\n",
       "    </tr>\n",
       "    <tr>\n",
       "      <th>3</th>\n",
       "      <td>Blackdown</td>\n",
       "      <td>51.058200</td>\n",
       "      <td>-0.689595</td>\n",
       "      <td>280</td>\n",
       "    </tr>\n",
       "    <tr>\n",
       "      <th>4</th>\n",
       "      <td>Marley Heights</td>\n",
       "      <td>51.061615</td>\n",
       "      <td>-0.729292</td>\n",
       "      <td>NaN</td>\n",
       "    </tr>\n",
       "    <tr>\n",
       "      <th>...</th>\n",
       "      <td>...</td>\n",
       "      <td>...</td>\n",
       "      <td>...</td>\n",
       "      <td>...</td>\n",
       "    </tr>\n",
       "    <tr>\n",
       "      <th>166090</th>\n",
       "      <td>Fridrih</td>\n",
       "      <td>46.508839</td>\n",
       "      <td>14.853471</td>\n",
       "      <td>729</td>\n",
       "    </tr>\n",
       "    <tr>\n",
       "      <th>166091</th>\n",
       "      <td>Fuente de los Frailes</td>\n",
       "      <td>41.793255</td>\n",
       "      <td>-1.809449</td>\n",
       "      <td>NaN</td>\n",
       "    </tr>\n",
       "    <tr>\n",
       "      <th>166092</th>\n",
       "      <td>Kobyla</td>\n",
       "      <td>50.336261</td>\n",
       "      <td>13.260521</td>\n",
       "      <td>619</td>\n",
       "    </tr>\n",
       "    <tr>\n",
       "      <th>166093</th>\n",
       "      <td>Peredlj</td>\n",
       "      <td>46.470492</td>\n",
       "      <td>14.054410</td>\n",
       "      <td>1027</td>\n",
       "    </tr>\n",
       "    <tr>\n",
       "      <th>166094</th>\n",
       "      <td>Kolina</td>\n",
       "      <td>50.335043</td>\n",
       "      <td>13.289356</td>\n",
       "      <td>507</td>\n",
       "    </tr>\n",
       "  </tbody>\n",
       "</table>\n",
       "<p>166095 rows × 4 columns</p>\n",
       "</div>"
      ],
      "text/plain": [
       "                           name   latitude  longitude   ele\n",
       "0       Shoulder Of Mutton Hill  51.038009  -0.948988   248\n",
       "1                   Gibbet Hill  51.115452  -0.715844   NaN\n",
       "2                     Hurt Hill  51.114637  -0.706361   NaN\n",
       "3                     Blackdown  51.058200  -0.689595   280\n",
       "4                Marley Heights  51.061615  -0.729292   NaN\n",
       "...                         ...        ...        ...   ...\n",
       "166090                  Fridrih  46.508839  14.853471   729\n",
       "166091    Fuente de los Frailes  41.793255  -1.809449   NaN\n",
       "166092                   Kobyla  50.336261  13.260521   619\n",
       "166093                  Peredlj  46.470492  14.054410  1027\n",
       "166094                   Kolina  50.335043  13.289356   507\n",
       "\n",
       "[166095 rows x 4 columns]"
      ]
     },
     "execution_count": 81,
     "metadata": {},
     "output_type": "execute_result"
    }
   ],
   "source": [
    "ele"
   ]
  },
  {
   "cell_type": "code",
   "execution_count": 86,
   "metadata": {},
   "outputs": [],
   "source": [
    "pd.merge(data, ele, on=[\"latitude\", \"longitude\", \"name\"], how=\"inner\").to_csv(\"data/test.csv\", index=False)"
   ]
  },
  {
   "cell_type": "code",
   "execution_count": 73,
   "metadata": {},
   "outputs": [
    {
     "data": {
      "text/html": [
       "<div>\n",
       "<style scoped>\n",
       "    .dataframe tbody tr th:only-of-type {\n",
       "        vertical-align: middle;\n",
       "    }\n",
       "\n",
       "    .dataframe tbody tr th {\n",
       "        vertical-align: top;\n",
       "    }\n",
       "\n",
       "    .dataframe thead th {\n",
       "        text-align: right;\n",
       "    }\n",
       "</style>\n",
       "<table border=\"1\" class=\"dataframe\">\n",
       "  <thead>\n",
       "    <tr style=\"text-align: right;\">\n",
       "      <th></th>\n",
       "      <th>name</th>\n",
       "      <th>latitude</th>\n",
       "      <th>longitude</th>\n",
       "      <th>view_possible</th>\n",
       "    </tr>\n",
       "  </thead>\n",
       "  <tbody>\n",
       "    <tr>\n",
       "      <th>0</th>\n",
       "      <td>Hradisko</td>\n",
       "      <td>49.187652</td>\n",
       "      <td>16.509734</td>\n",
       "      <td>False</td>\n",
       "    </tr>\n",
       "    <tr>\n",
       "      <th>1</th>\n",
       "      <td>Berchtesgadener Hochthron</td>\n",
       "      <td>47.693515</td>\n",
       "      <td>12.986619</td>\n",
       "      <td>False</td>\n",
       "    </tr>\n",
       "    <tr>\n",
       "      <th>2</th>\n",
       "      <td>Jenner</td>\n",
       "      <td>47.575711</td>\n",
       "      <td>13.020282</td>\n",
       "      <td>False</td>\n",
       "    </tr>\n",
       "    <tr>\n",
       "      <th>3</th>\n",
       "      <td>Ochsenkopf</td>\n",
       "      <td>50.030670</td>\n",
       "      <td>11.809890</td>\n",
       "      <td>False</td>\n",
       "    </tr>\n",
       "    <tr>\n",
       "      <th>4</th>\n",
       "      <td>Hörnli</td>\n",
       "      <td>47.370915</td>\n",
       "      <td>8.941772</td>\n",
       "      <td>False</td>\n",
       "    </tr>\n",
       "    <tr>\n",
       "      <th>...</th>\n",
       "      <td>...</td>\n",
       "      <td>...</td>\n",
       "      <td>...</td>\n",
       "      <td>...</td>\n",
       "    </tr>\n",
       "    <tr>\n",
       "      <th>108045</th>\n",
       "      <td>Kogel</td>\n",
       "      <td>46.319400</td>\n",
       "      <td>15.325721</td>\n",
       "      <td>False</td>\n",
       "    </tr>\n",
       "    <tr>\n",
       "      <th>108046</th>\n",
       "      <td>Curkla</td>\n",
       "      <td>46.346747</td>\n",
       "      <td>14.136313</td>\n",
       "      <td>False</td>\n",
       "    </tr>\n",
       "    <tr>\n",
       "      <th>108047</th>\n",
       "      <td>Punta dell'Orticello</td>\n",
       "      <td>41.546636</td>\n",
       "      <td>13.288976</td>\n",
       "      <td>False</td>\n",
       "    </tr>\n",
       "    <tr>\n",
       "      <th>108048</th>\n",
       "      <td>Monte Siserno</td>\n",
       "      <td>41.536084</td>\n",
       "      <td>13.304430</td>\n",
       "      <td>False</td>\n",
       "    </tr>\n",
       "    <tr>\n",
       "      <th>108049</th>\n",
       "      <td>Scheggione</td>\n",
       "      <td>46.465703</td>\n",
       "      <td>8.736093</td>\n",
       "      <td>False</td>\n",
       "    </tr>\n",
       "  </tbody>\n",
       "</table>\n",
       "<p>108050 rows × 4 columns</p>\n",
       "</div>"
      ],
      "text/plain": [
       "                             name   latitude  longitude  view_possible\n",
       "0                        Hradisko  49.187652  16.509734          False\n",
       "1       Berchtesgadener Hochthron  47.693515  12.986619          False\n",
       "2                          Jenner  47.575711  13.020282          False\n",
       "3                      Ochsenkopf  50.030670  11.809890          False\n",
       "4                          Hörnli  47.370915   8.941772          False\n",
       "...                           ...        ...        ...            ...\n",
       "108045                      Kogel  46.319400  15.325721          False\n",
       "108046                     Curkla  46.346747  14.136313          False\n",
       "108047       Punta dell'Orticello  41.546636  13.288976          False\n",
       "108048              Monte Siserno  41.536084  13.304430          False\n",
       "108049                 Scheggione  46.465703   8.736093          False\n",
       "\n",
       "[108050 rows x 4 columns]"
      ]
     },
     "execution_count": 73,
     "metadata": {},
     "output_type": "execute_result"
    }
   ],
   "source": [
    "data"
   ]
  },
  {
   "cell_type": "code",
   "execution_count": 66,
   "metadata": {},
   "outputs": [
    {
     "data": {
      "text/plain": [
       "False    102390\n",
       "True       5660\n",
       "Name: view_possible, dtype: int64"
      ]
     },
     "execution_count": 66,
     "metadata": {},
     "output_type": "execute_result"
    }
   ],
   "source": [
    "data[\"view_possible\"].value_counts()"
   ]
  },
  {
   "cell_type": "code",
   "execution_count": 55,
   "metadata": {},
   "outputs": [
    {
     "data": {
      "text/plain": [
       "0          248\n",
       "1          NaN\n",
       "2          NaN\n",
       "3          280\n",
       "4          NaN\n",
       "          ... \n",
       "166090     729\n",
       "166091     NaN\n",
       "166092     619\n",
       "166093    1027\n",
       "166094     507\n",
       "Name: ele, Length: 166095, dtype: object"
      ]
     },
     "execution_count": 55,
     "metadata": {},
     "output_type": "execute_result"
    }
   ],
   "source": [
    "ele[\"ele\"]"
   ]
  },
  {
   "cell_type": "code",
   "execution_count": 39,
   "metadata": {},
   "outputs": [
    {
     "data": {
      "text/html": [
       "<div>\n",
       "<style scoped>\n",
       "    .dataframe tbody tr th:only-of-type {\n",
       "        vertical-align: middle;\n",
       "    }\n",
       "\n",
       "    .dataframe tbody tr th {\n",
       "        vertical-align: top;\n",
       "    }\n",
       "\n",
       "    .dataframe thead th {\n",
       "        text-align: right;\n",
       "    }\n",
       "</style>\n",
       "<table border=\"1\" class=\"dataframe\">\n",
       "  <thead>\n",
       "    <tr style=\"text-align: right;\">\n",
       "      <th></th>\n",
       "      <th>name</th>\n",
       "      <th>latitude</th>\n",
       "      <th>longitude</th>\n",
       "      <th>view_possible</th>\n",
       "    </tr>\n",
       "  </thead>\n",
       "  <tbody>\n",
       "    <tr>\n",
       "      <th>0</th>\n",
       "      <td>Hradisko</td>\n",
       "      <td>49.187652</td>\n",
       "      <td>16.509734</td>\n",
       "      <td>False</td>\n",
       "    </tr>\n",
       "    <tr>\n",
       "      <th>1</th>\n",
       "      <td>Berchtesgadener Hochthron</td>\n",
       "      <td>47.693515</td>\n",
       "      <td>12.986619</td>\n",
       "      <td>False</td>\n",
       "    </tr>\n",
       "    <tr>\n",
       "      <th>2</th>\n",
       "      <td>Jenner</td>\n",
       "      <td>47.575711</td>\n",
       "      <td>13.020282</td>\n",
       "      <td>False</td>\n",
       "    </tr>\n",
       "    <tr>\n",
       "      <th>3</th>\n",
       "      <td>Ochsenkopf</td>\n",
       "      <td>50.030670</td>\n",
       "      <td>11.809890</td>\n",
       "      <td>False</td>\n",
       "    </tr>\n",
       "    <tr>\n",
       "      <th>4</th>\n",
       "      <td>Hörnli</td>\n",
       "      <td>47.370915</td>\n",
       "      <td>8.941772</td>\n",
       "      <td>False</td>\n",
       "    </tr>\n",
       "    <tr>\n",
       "      <th>...</th>\n",
       "      <td>...</td>\n",
       "      <td>...</td>\n",
       "      <td>...</td>\n",
       "      <td>...</td>\n",
       "    </tr>\n",
       "    <tr>\n",
       "      <th>108045</th>\n",
       "      <td>Kogel</td>\n",
       "      <td>46.319400</td>\n",
       "      <td>15.325721</td>\n",
       "      <td>False</td>\n",
       "    </tr>\n",
       "    <tr>\n",
       "      <th>108046</th>\n",
       "      <td>Curkla</td>\n",
       "      <td>46.346747</td>\n",
       "      <td>14.136313</td>\n",
       "      <td>False</td>\n",
       "    </tr>\n",
       "    <tr>\n",
       "      <th>108047</th>\n",
       "      <td>Punta dell'Orticello</td>\n",
       "      <td>41.546636</td>\n",
       "      <td>13.288976</td>\n",
       "      <td>False</td>\n",
       "    </tr>\n",
       "    <tr>\n",
       "      <th>108048</th>\n",
       "      <td>Monte Siserno</td>\n",
       "      <td>41.536084</td>\n",
       "      <td>13.304430</td>\n",
       "      <td>False</td>\n",
       "    </tr>\n",
       "    <tr>\n",
       "      <th>108049</th>\n",
       "      <td>Scheggione</td>\n",
       "      <td>46.465703</td>\n",
       "      <td>8.736093</td>\n",
       "      <td>False</td>\n",
       "    </tr>\n",
       "  </tbody>\n",
       "</table>\n",
       "<p>108050 rows × 4 columns</p>\n",
       "</div>"
      ],
      "text/plain": [
       "                             name   latitude  longitude  view_possible\n",
       "0                        Hradisko  49.187652  16.509734          False\n",
       "1       Berchtesgadener Hochthron  47.693515  12.986619          False\n",
       "2                          Jenner  47.575711  13.020282          False\n",
       "3                      Ochsenkopf  50.030670  11.809890          False\n",
       "4                          Hörnli  47.370915   8.941772          False\n",
       "...                           ...        ...        ...            ...\n",
       "108045                      Kogel  46.319400  15.325721          False\n",
       "108046                     Curkla  46.346747  14.136313          False\n",
       "108047       Punta dell'Orticello  41.546636  13.288976          False\n",
       "108048              Monte Siserno  41.536084  13.304430          False\n",
       "108049                 Scheggione  46.465703   8.736093          False\n",
       "\n",
       "[108050 rows x 4 columns]"
      ]
     },
     "execution_count": 39,
     "metadata": {},
     "output_type": "execute_result"
    }
   ],
   "source": []
  }
 ],
 "metadata": {
  "kernelspec": {
   "display_name": "Python 3",
   "language": "python",
   "name": "python3"
  },
  "language_info": {
   "codemirror_mode": {
    "name": "ipython",
    "version": 3
   },
   "file_extension": ".py",
   "mimetype": "text/x-python",
   "name": "python",
   "nbconvert_exporter": "python",
   "pygments_lexer": "ipython3",
   "version": "3.10.6"
  },
  "orig_nbformat": 4,
  "vscode": {
   "interpreter": {
    "hash": "916dbcbb3f70747c44a77c7bcd40155683ae19c65e1c03b4aa3499c5328201f1"
   }
  }
 },
 "nbformat": 4,
 "nbformat_minor": 2
}
